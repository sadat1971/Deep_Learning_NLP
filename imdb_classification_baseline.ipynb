{
  "nbformat": 4,
  "nbformat_minor": 0,
  "metadata": {
    "colab": {
      "name": "imdb_classification_baseline.ipynb",
      "provenance": [],
      "authorship_tag": "ABX9TyOa9H6NYifbXuDHU1r7AD90",
      "include_colab_link": true
    },
    "kernelspec": {
      "name": "python3",
      "display_name": "Python 3"
    }
  },
  "cells": [
    {
      "cell_type": "markdown",
      "metadata": {
        "id": "view-in-github",
        "colab_type": "text"
      },
      "source": [
        "<a href=\"https://colab.research.google.com/github/sadat1971/Deep_Learning_NLP/blob/main/imdb_classification_baseline.ipynb\" target=\"_parent\"><img src=\"https://colab.research.google.com/assets/colab-badge.svg\" alt=\"Open In Colab\"/></a>"
      ]
    },
    {
      "cell_type": "markdown",
      "metadata": {
        "id": "Ys8jUwhtsyKA"
      },
      "source": [
        "# Making a good baseline model "
      ]
    },
    {
      "cell_type": "markdown",
      "metadata": {
        "id": "ipeTsiSLs8cW"
      },
      "source": [
        "From [tensorflow website](https://www.tensorflow.org/hub/tutorials/tf2_text_classification) \n",
        "\n",
        "This notebook classifies movie reviews as positive or negative using the text of the review. This is an example of binary—or two-class—classification, an important and widely applicable kind of machine learning problem.\n",
        "\n",
        "We'll use the IMDB dataset that contains the text of 50,000 movie reviews from the Internet Movie Database. These are split into 25,000 reviews for training and 25,000 reviews for testing. The training and testing sets are balanced, meaning they contain an equal number of positive and negative reviews."
      ]
    },
    {
      "cell_type": "code",
      "metadata": {
        "id": "bf5cXN0htIP8",
        "outputId": "f4b150b9-0287-47d8-fdc0-398bc720dff4",
        "colab": {
          "base_uri": "https://localhost:8080/"
        }
      },
      "source": [
        "import numpy as np\n",
        "\n",
        "import tensorflow as tf\n",
        "import tensorflow_hub as hub\n",
        "import tensorflow_datasets as tfds\n",
        "\n",
        "import matplotlib.pyplot as plt\n",
        "\n",
        "print(\"Version: \", tf.__version__)\n",
        "print(\"Eager mode: \", tf.executing_eagerly())\n",
        "print(\"Hub version: \", hub.__version__)\n",
        "print(\"GPU is\", \"available\" if tf.config.list_physical_devices('GPU') else \"NOT AVAILABLE\")"
      ],
      "execution_count": 27,
      "outputs": [
        {
          "output_type": "stream",
          "text": [
            "Version:  2.3.0\n",
            "Eager mode:  True\n",
            "Hub version:  0.10.0\n",
            "GPU is NOT AVAILABLE\n"
          ],
          "name": "stdout"
        }
      ]
    },
    {
      "cell_type": "markdown",
      "metadata": {
        "id": "BN3rWBGlxNnL"
      },
      "source": [
        "Let's download the dataset from tfds. The current version of the split is set in a 50%-50% way. Not ideal, but for now, we will deal with that. "
      ]
    },
    {
      "cell_type": "code",
      "metadata": {
        "id": "ilOgzKARtY8_"
      },
      "source": [
        "train_data, test_data = tfds.load(name=\"imdb_reviews\", split=[\"train\", \"test\"], \n",
        "                                  batch_size=-1, as_supervised=True)\n",
        "\n",
        "train_examples, train_labels = tfds.as_numpy(train_data)\n",
        "test_examples, test_labels = tfds.as_numpy(test_data)"
      ],
      "execution_count": 28,
      "outputs": []
    },
    {
      "cell_type": "markdown",
      "metadata": {
        "id": "9_VqyopsxhCr"
      },
      "source": [
        "Now, let's try to explore how the training and the test set data looks like:"
      ]
    },
    {
      "cell_type": "code",
      "metadata": {
        "id": "SlaeWhQtt04y",
        "outputId": "89bbfa19-5336-4fe5-8392-98e3c87a092f",
        "colab": {
          "base_uri": "https://localhost:8080/"
        }
      },
      "source": [
        "print(train_examples)\n",
        "print('\\n\\n')\n",
        "print(\"Number of examples in the training data are:\" + str(len(train_examples)))\n",
        "\n",
        "#How many of the training examples are positive\n",
        "print(\"Number of training data which are positive is,\" +str(np.sum(train_labels)) + \"And they are \" + str(np.sum(train_labels)*100/len(train_labels)) + \"% of the total data\")\n",
        "\n",
        "print('\\n\\n')\n",
        "print(\"Number of examples in the test data are:\" + str(len(test_examples)))\n",
        "\n",
        "#How many of the test examples are positive\n",
        "print(\"Number of test data which are positive is,\" +str(np.sum(test_labels)) + \"And they are \" + str(np.sum(test_labels)*100/len(test_labels)) + \"% of the total data\")"
      ],
      "execution_count": 29,
      "outputs": [
        {
          "output_type": "stream",
          "text": [
            "[b\"This was an absolutely terrible movie. Don't be lured in by Christopher Walken or Michael Ironside. Both are great actors, but this must simply be their worst role in history. Even their great acting could not redeem this movie's ridiculous storyline. This movie is an early nineties US propaganda piece. The most pathetic scenes were those when the Columbian rebels were making their cases for revolutions. Maria Conchita Alonso appeared phony, and her pseudo-love affair with Walken was nothing but a pathetic emotional plug in a movie that was devoid of any real meaning. I am disappointed that there are movies like this, ruining actor's like Christopher Walken's good name. I could barely sit through it.\"\n",
            " b'I have been known to fall asleep during films, but this is usually due to a combination of things including, really tired, being warm and comfortable on the sette and having just eaten a lot. However on this occasion I fell asleep because the film was rubbish. The plot development was constant. Constantly slow and boring. Things seemed to happen, but with no explanation of what was causing them or why. I admit, I may have missed part of the film, but i watched the majority of it and everything just seemed to happen of its own accord without any real concern for anything else. I cant recommend this film at all.'\n",
            " b'Mann photographs the Alberta Rocky Mountains in a superb fashion, and Jimmy Stewart and Walter Brennan give enjoyable performances as they always seem to do. <br /><br />But come on Hollywood - a Mountie telling the people of Dawson City, Yukon to elect themselves a marshal (yes a marshal!) and to enforce the law themselves, then gunfighters battling it out on the streets for control of the town? <br /><br />Nothing even remotely resembling that happened on the Canadian side of the border during the Klondike gold rush. Mr. Mann and company appear to have mistaken Dawson City for Deadwood, the Canadian North for the American Wild West.<br /><br />Canadian viewers be prepared for a Reefer Madness type of enjoyable howl with this ludicrous plot, or, to shake your head in disgust.'\n",
            " ...\n",
            " b'Okay. So I just got back. Before I start my review, let me tell you one thing: I wanted to like this movie. I know I\\'ve been negative in the past, but I was hoping to be surprised and actually come out liking the film. I didn\\'t.<br /><br />It\\'s not just the fact that every horror clich\\xc3\\xa9 imaginable is in this. And it\\'s not just the fact that they make every little thing into a jump scare (walking into a baseball bat left on the floor? Are you kidding me?). It just wasn\\'t scary. One thing I was surprised about: there was more blood than I thought there was going to be.. which isn\\'t saying much.<br /><br />The film starts off with Donna being dropped off by Lisa\\'s mom at her house. She comes in.. goes upstairs. Camera pans to her father dead on the couch. Spooky. She goes upstairs, where the aforementioned baseball bat scene happens. Finds her brother on his bed, apparently dead (how could she tell? He didn\\'t have a spot of blood on him). Killer comes in, Donna hides under bed, mom dies. She runs outside screaming for help. Killer behind her: \"I did it for us.\" Cut to therapy session. This confused a lot of people- everyone was asking whether or not her family actually died or if she imagined it- and she mentions how the nightmares have started coming back. Filler dialogue ensues.<br /><br />THey cut to the chase pretty quick. Few scenes at the salon, they go to the hotel. Of course the killer is already there (for some reason, he escaped 3 days ago but the police/family weren\\'t informed until he\\'s already there). More filler ensues.<br /><br />I\\'m not going to go on about what happens in the film, because I don\\'t want to spoil it too much. If you want to know who dies, Horror_Fan made a post about it already. But on the subjects of deaths: they weren\\'t that exciting. People in the theatre actually laughed out loud (an experience I\\'ve never had before in a horror movie, not even in When A Stranger Calls) during several of them. One in particular: the bus boy guy who gives the most hilarious \\'scared\\' face I\\'ve ever seen. The only death involving any blood was Lisa\\'s, and that was pretty scarce. Her throat is slashed, blood (if you can even call it that- it was practically black) splatters on the curtain-thing. The only other blood was on Claire when we see her body. Apparently, Fenton decided to stab her a few times after he choked her to death. Um, okay? The movie was one of the most clich\\xc3\\xa9d I\\'ve ever seen. Let\\'s see here.. obligatory close-mirror-curtain-BOOM! scene. Check. Twice, actually (you could tell they were struggling). Mandatory backing-up-into-killer. Check. There\\'s also the backing-up-into-lamp scene, but you\\'ve all seen that. Oh, you say you want a birds-flying-away scare? Well, you got it! (Yes, they managed to incorporate one of those in here). And, of course, the we-have-security-on-all-exits-but-he-still-escaped scene. Shall I go on? I could.<br /><br />For anyone saying the characters weren\\'t stupid, are you kidding me? \"Oh, even though the massive alarm is ringing, literally saying PLEASE VACATE THE BUILDING, and 3 of my friends are missing, I\\'m going to go upstairs to get my wrap.\" These characters were some of the most flawed and stupid characters ever. The only likable character - Lisa - made one of the most stupid moves in the movie. \"Oh, I just realized the psycho-teacher is here! I must leave my strong boyfriend behind to run off by myself to warn her! Oh, shoot, the elevator is being to slow? Guess I\\'ll take the stairs and run off into the construction site!\" Ugh. By the end of the film, they all deserved to die. The only death anyone felt any remorse for was Donna\\'s boyfriend (I can\\'t even remember his name- is that bad?), and by that time, the audience was completely drained out of this scareless, clich\\xc3\\xa9d film.<br /><br />There were SOME positives- the acting was decent for the most part, and it was well-shot. But that\\'s about it.<br /><br />I\\'d give it a 1/5, and that\\'s being generous. Just for the laughs (and believe me, the audience had a few), and Brittany Snow.<br /><br />Oh, and the reaction was bad. Very bad. People were boo-ing after the movie ended and buzz afterwards was very negative. Expect bad legs for this one.'\n",
            " b'When I saw this trailer on TV I was surprised. In May of 2008 I was at Six Flags in New Jersey and this was showing at a 4-D attraction (you know, the attraction that the seats move). I take it that the version I saw was a shortened version (15 min.) and also re-created to add the motion effects. It was a cute movie... but that was it. It was educational and told about the first mission but the ending of a CGI spacewalk seemed a bit...well...trite. I was not a big fan of the movie but i would recommend this movie for any parent wanting to inform their children in a fun way about the first moonwalk. I will say, the character actors were well selected and the characters themselves were cute. So all-in-all, I would say, if you want to bring the younger kids... go for it. But if you are wanting to take your older kids, take them to another movie... they will thank you.'\n",
            " b'First of all, Riget is wonderful. Good comedy and mystery thriller at the same time. Nice combination of strange \\'dogma\\' style of telling the story together with good music and great actors. But unfortunately there\\'s no \\'the end\\'. As for me it\\'s unacceptable. I was thinking... how it will be possible to continue the story without Helmer and Drusse? ...and I have some idea. I think Lars should make RIGET III a little bit different. I\\'m sure that 3rd part without Helmer wouldn\\'t be the same. So here\\'s my suggestion. Mayble little bit stupid, maybe not. I know that Lars likes to experiment. So why not to make small experiment with Riget3? I think the only solution here is to create puppet-driven animation (like for example \"team America\" by Trey Parker) or even computer 3d animation. I know it\\'s not the same as real actors, but in principle I believe it could work... only this way it\\'s possible to make actors alive again. For Riget fans this shouldn\\'t be so big difference - if the animation will be done in good way average \\'watcher\\' will consider it normal just after first few shots of the movie. The most important thing now is the story. It\\'s completely understandable that it\\'s not possible to create Riget 3 with the actors nowadays. So why not to play with animation? And... look for the possibilities that it gives to you! Even marketing one! Great director finishes his trilogy after 10 years using puppet animation. Just dreams?<br /><br />I hope to see Riget 3 someday... or even to see just the script. I\\'m curious how the story ends... and as I expect- everybody here do.<br /><br />greets, slaj<br /><br />ps: I\\'m not talking about the \"kingdom hospital\" by Stephen King ;-)']\n",
            "\n",
            "\n",
            "\n",
            "Number of examples in the training data are:25000\n",
            "Number of training data which are positive is,12500And they are 50.0% of the total data\n",
            "\n",
            "\n",
            "\n",
            "Number of examples in the test data are:25000\n",
            "Number of test data which are positive is,12500And they are 50.0% of the total data\n"
          ],
          "name": "stdout"
        }
      ]
    },
    {
      "cell_type": "code",
      "metadata": {
        "id": "3MKc4mipwmgM"
      },
      "source": [
        ""
      ],
      "execution_count": 29,
      "outputs": []
    },
    {
      "cell_type": "markdown",
      "metadata": {
        "id": "ffgARLo-7qgJ"
      },
      "source": [
        "# convert sentences into embeddings vectors"
      ]
    },
    {
      "cell_type": "markdown",
      "metadata": {
        "id": "_A7yYvWOQpH0"
      },
      "source": [
        "We want to embed the sentences into vector representations. "
      ]
    },
    {
      "cell_type": "code",
      "metadata": {
        "id": "BoFmp0N18BgB",
        "outputId": "5d34d687-0ac0-47d4-939d-f82d1133f444",
        "colab": {
          "base_uri": "https://localhost:8080/"
        }
      },
      "source": [
        "# This is an example of how sentences are converted to vectors\n",
        "embed = hub.load(\"https://tfhub.dev/google/tf2-preview/gnews-swivel-20dim/1\")\n",
        "embeddings = embed([\"cat is on the mat\", \"dog is in the fog\"])\n",
        "embeddings"
      ],
      "execution_count": 32,
      "outputs": [
        {
          "output_type": "stream",
          "text": [
            "WARNING:tensorflow:11 out of the last 11 calls to <function recreate_function.<locals>.restored_function_body at 0x7f385db63730> triggered tf.function retracing. Tracing is expensive and the excessive number of tracings could be due to (1) creating @tf.function repeatedly in a loop, (2) passing tensors with different shapes, (3) passing Python objects instead of tensors. For (1), please define your @tf.function outside of the loop. For (2), @tf.function has experimental_relax_shapes=True option that relaxes argument shapes that can avoid unnecessary retracing. For (3), please refer to https://www.tensorflow.org/tutorials/customization/performance#python_or_tensor_args and https://www.tensorflow.org/api_docs/python/tf/function for  more details.\n"
          ],
          "name": "stdout"
        },
        {
          "output_type": "stream",
          "text": [
            "WARNING:tensorflow:11 out of the last 11 calls to <function recreate_function.<locals>.restored_function_body at 0x7f385db63730> triggered tf.function retracing. Tracing is expensive and the excessive number of tracings could be due to (1) creating @tf.function repeatedly in a loop, (2) passing tensors with different shapes, (3) passing Python objects instead of tensors. For (1), please define your @tf.function outside of the loop. For (2), @tf.function has experimental_relax_shapes=True option that relaxes argument shapes that can avoid unnecessary retracing. For (3), please refer to https://www.tensorflow.org/tutorials/customization/performance#python_or_tensor_args and https://www.tensorflow.org/api_docs/python/tf/function for  more details.\n"
          ],
          "name": "stderr"
        },
        {
          "output_type": "stream",
          "text": [
            "WARNING:tensorflow:11 out of the last 11 calls to <function recreate_function.<locals>.restored_function_body at 0x7f385db63bf8> triggered tf.function retracing. Tracing is expensive and the excessive number of tracings could be due to (1) creating @tf.function repeatedly in a loop, (2) passing tensors with different shapes, (3) passing Python objects instead of tensors. For (1), please define your @tf.function outside of the loop. For (2), @tf.function has experimental_relax_shapes=True option that relaxes argument shapes that can avoid unnecessary retracing. For (3), please refer to https://www.tensorflow.org/tutorials/customization/performance#python_or_tensor_args and https://www.tensorflow.org/api_docs/python/tf/function for  more details.\n"
          ],
          "name": "stdout"
        },
        {
          "output_type": "stream",
          "text": [
            "WARNING:tensorflow:11 out of the last 11 calls to <function recreate_function.<locals>.restored_function_body at 0x7f385db63bf8> triggered tf.function retracing. Tracing is expensive and the excessive number of tracings could be due to (1) creating @tf.function repeatedly in a loop, (2) passing tensors with different shapes, (3) passing Python objects instead of tensors. For (1), please define your @tf.function outside of the loop. For (2), @tf.function has experimental_relax_shapes=True option that relaxes argument shapes that can avoid unnecessary retracing. For (3), please refer to https://www.tensorflow.org/tutorials/customization/performance#python_or_tensor_args and https://www.tensorflow.org/api_docs/python/tf/function for  more details.\n"
          ],
          "name": "stderr"
        },
        {
          "output_type": "stream",
          "text": [
            "WARNING:tensorflow:11 out of the last 11 calls to <function recreate_function.<locals>.restored_function_body at 0x7f385b7b1950> triggered tf.function retracing. Tracing is expensive and the excessive number of tracings could be due to (1) creating @tf.function repeatedly in a loop, (2) passing tensors with different shapes, (3) passing Python objects instead of tensors. For (1), please define your @tf.function outside of the loop. For (2), @tf.function has experimental_relax_shapes=True option that relaxes argument shapes that can avoid unnecessary retracing. For (3), please refer to https://www.tensorflow.org/tutorials/customization/performance#python_or_tensor_args and https://www.tensorflow.org/api_docs/python/tf/function for  more details.\n"
          ],
          "name": "stdout"
        },
        {
          "output_type": "stream",
          "text": [
            "WARNING:tensorflow:11 out of the last 11 calls to <function recreate_function.<locals>.restored_function_body at 0x7f385b7b1950> triggered tf.function retracing. Tracing is expensive and the excessive number of tracings could be due to (1) creating @tf.function repeatedly in a loop, (2) passing tensors with different shapes, (3) passing Python objects instead of tensors. For (1), please define your @tf.function outside of the loop. For (2), @tf.function has experimental_relax_shapes=True option that relaxes argument shapes that can avoid unnecessary retracing. For (3), please refer to https://www.tensorflow.org/tutorials/customization/performance#python_or_tensor_args and https://www.tensorflow.org/api_docs/python/tf/function for  more details.\n"
          ],
          "name": "stderr"
        },
        {
          "output_type": "execute_result",
          "data": {
            "text/plain": [
              "<tf.Tensor: shape=(2, 20), dtype=float32, numpy=\n",
              "array([[ 0.8666395 ,  0.35917717,  0.00579667,  0.681002  , -0.54226625,\n",
              "         0.22343189, -0.38796625,  0.62195706,  0.22117122, -0.48538068,\n",
              "        -1.2674141 ,  0.886369  , -0.32849073, -0.13924702, -0.53327686,\n",
              "         0.5739708 , -0.05905761,  0.13629246, -1.1718255 , -0.31494334],\n",
              "       [ 0.9602181 ,  0.62520486,  0.06261905,  0.37425604,  0.24782333,\n",
              "        -0.39351934, -0.7418429 ,  0.56599647, -0.26197797, -0.69016844,\n",
              "        -0.76565284,  0.71412426, -0.4537978 , -0.50701594, -0.8499377 ,\n",
              "         0.8917156 , -0.30278975,  0.2149126 , -1.1098894 , -0.46719775]],\n",
              "      dtype=float32)>"
            ]
          },
          "metadata": {
            "tags": []
          },
          "execution_count": 32
        }
      ]
    },
    {
      "cell_type": "code",
      "metadata": {
        "id": "7rvL4NbF7tKH",
        "outputId": "1a006574-1e00-4968-ccad-f1c9bad5227e",
        "colab": {
          "base_uri": "https://localhost:8080/"
        }
      },
      "source": [
        "model = \"https://tfhub.dev/google/tf2-preview/gnews-swivel-20dim/1\"\n",
        "hub_layer = hub.KerasLayer(model, output_shape=[20], input_shape=[], \n",
        "                           dtype=tf.string, trainable=True)\n",
        "hub_layer(train_examples[:7])"
      ],
      "execution_count": 30,
      "outputs": [
        {
          "output_type": "stream",
          "text": [
            "WARNING:tensorflow:10 out of the last 10 calls to <function recreate_function.<locals>.restored_function_body at 0x7f3858c567b8> triggered tf.function retracing. Tracing is expensive and the excessive number of tracings could be due to (1) creating @tf.function repeatedly in a loop, (2) passing tensors with different shapes, (3) passing Python objects instead of tensors. For (1), please define your @tf.function outside of the loop. For (2), @tf.function has experimental_relax_shapes=True option that relaxes argument shapes that can avoid unnecessary retracing. For (3), please refer to https://www.tensorflow.org/tutorials/customization/performance#python_or_tensor_args and https://www.tensorflow.org/api_docs/python/tf/function for  more details.\n"
          ],
          "name": "stdout"
        },
        {
          "output_type": "stream",
          "text": [
            "WARNING:tensorflow:10 out of the last 10 calls to <function recreate_function.<locals>.restored_function_body at 0x7f3858c567b8> triggered tf.function retracing. Tracing is expensive and the excessive number of tracings could be due to (1) creating @tf.function repeatedly in a loop, (2) passing tensors with different shapes, (3) passing Python objects instead of tensors. For (1), please define your @tf.function outside of the loop. For (2), @tf.function has experimental_relax_shapes=True option that relaxes argument shapes that can avoid unnecessary retracing. For (3), please refer to https://www.tensorflow.org/tutorials/customization/performance#python_or_tensor_args and https://www.tensorflow.org/api_docs/python/tf/function for  more details.\n"
          ],
          "name": "stderr"
        },
        {
          "output_type": "stream",
          "text": [
            "WARNING:tensorflow:11 out of the last 11 calls to <function recreate_function.<locals>.restored_function_body at 0x7f3858c56c80> triggered tf.function retracing. Tracing is expensive and the excessive number of tracings could be due to (1) creating @tf.function repeatedly in a loop, (2) passing tensors with different shapes, (3) passing Python objects instead of tensors. For (1), please define your @tf.function outside of the loop. For (2), @tf.function has experimental_relax_shapes=True option that relaxes argument shapes that can avoid unnecessary retracing. For (3), please refer to https://www.tensorflow.org/tutorials/customization/performance#python_or_tensor_args and https://www.tensorflow.org/api_docs/python/tf/function for  more details.\n"
          ],
          "name": "stdout"
        },
        {
          "output_type": "stream",
          "text": [
            "WARNING:tensorflow:11 out of the last 11 calls to <function recreate_function.<locals>.restored_function_body at 0x7f3858c56c80> triggered tf.function retracing. Tracing is expensive and the excessive number of tracings could be due to (1) creating @tf.function repeatedly in a loop, (2) passing tensors with different shapes, (3) passing Python objects instead of tensors. For (1), please define your @tf.function outside of the loop. For (2), @tf.function has experimental_relax_shapes=True option that relaxes argument shapes that can avoid unnecessary retracing. For (3), please refer to https://www.tensorflow.org/tutorials/customization/performance#python_or_tensor_args and https://www.tensorflow.org/api_docs/python/tf/function for  more details.\n"
          ],
          "name": "stderr"
        },
        {
          "output_type": "stream",
          "text": [
            "WARNING:tensorflow:11 out of the last 11 calls to <function recreate_function.<locals>.restored_function_body at 0x7f385b566d08> triggered tf.function retracing. Tracing is expensive and the excessive number of tracings could be due to (1) creating @tf.function repeatedly in a loop, (2) passing tensors with different shapes, (3) passing Python objects instead of tensors. For (1), please define your @tf.function outside of the loop. For (2), @tf.function has experimental_relax_shapes=True option that relaxes argument shapes that can avoid unnecessary retracing. For (3), please refer to https://www.tensorflow.org/tutorials/customization/performance#python_or_tensor_args and https://www.tensorflow.org/api_docs/python/tf/function for  more details.\n"
          ],
          "name": "stdout"
        },
        {
          "output_type": "stream",
          "text": [
            "WARNING:tensorflow:11 out of the last 11 calls to <function recreate_function.<locals>.restored_function_body at 0x7f385b566d08> triggered tf.function retracing. Tracing is expensive and the excessive number of tracings could be due to (1) creating @tf.function repeatedly in a loop, (2) passing tensors with different shapes, (3) passing Python objects instead of tensors. For (1), please define your @tf.function outside of the loop. For (2), @tf.function has experimental_relax_shapes=True option that relaxes argument shapes that can avoid unnecessary retracing. For (3), please refer to https://www.tensorflow.org/tutorials/customization/performance#python_or_tensor_args and https://www.tensorflow.org/api_docs/python/tf/function for  more details.\n"
          ],
          "name": "stderr"
        },
        {
          "output_type": "execute_result",
          "data": {
            "text/plain": [
              "<tf.Tensor: shape=(7, 20), dtype=float32, numpy=\n",
              "array([[ 1.765786  , -3.882232  ,  3.9134233 , -1.5557289 , -3.3362343 ,\n",
              "        -1.7357955 , -1.9954445 ,  1.2989551 ,  5.081598  , -1.1041286 ,\n",
              "        -2.0503852 , -0.72675157, -0.65675956,  0.24436149, -3.7208383 ,\n",
              "         2.0954835 ,  2.2969332 , -2.0689783 , -2.9489717 , -1.1315987 ],\n",
              "       [ 1.8804485 , -2.5852382 ,  3.4066997 ,  1.0982676 , -4.056685  ,\n",
              "        -4.891284  , -2.785554  ,  1.3874227 ,  3.8476458 , -0.9256538 ,\n",
              "        -1.896706  ,  1.2113281 ,  0.11474707,  0.76209456, -4.8791065 ,\n",
              "         2.906149  ,  4.7087674 , -2.3652055 , -3.5015898 , -1.6390051 ],\n",
              "       [ 0.71152234, -0.6353217 ,  1.7385626 , -1.1168286 , -0.5451594 ,\n",
              "        -1.1808156 ,  0.09504455,  1.4653089 ,  0.66059524,  0.79308075,\n",
              "        -2.2268345 ,  0.07446612, -1.4075904 , -0.70645386, -1.907037  ,\n",
              "         1.4419787 ,  1.9551861 , -0.42660055, -2.8022065 ,  0.43727064],\n",
              "       [ 1.5165    , -0.71034056,  1.8556767 , -1.2033532 , -1.3105817 ,\n",
              "        -0.8829813 , -1.1187646 ,  0.5318602 ,  1.0793796 , -1.704331  ,\n",
              "        -2.419896  ,  1.3787876 , -1.5979576 , -0.8075193 , -2.770235  ,\n",
              "         1.4840026 ,  2.2181196 , -1.1752981 , -3.653832  , -0.43227202],\n",
              "       [ 2.2775352 , -2.859779  ,  1.5962925 , -1.229557  , -2.915857  ,\n",
              "        -3.408698  , -1.6590053 ,  0.90293777,  2.820842  ,  0.34331927,\n",
              "        -1.2213763 ,  0.8157163 , -1.3391474 ,  0.24255586, -5.0900426 ,\n",
              "         2.0221164 ,  2.7441626 , -2.8562224 , -3.235116  , -0.24184115],\n",
              "       [ 4.8275094 , -3.5552435 ,  5.1496925 , -0.95615286, -2.2722518 ,\n",
              "        -4.4889107 , -2.8821247 ,  2.2267299 ,  5.036254  , -3.1937487 ,\n",
              "        -1.4377005 ,  1.6979549 , -1.0886794 ,  0.15857595, -5.7965794 ,\n",
              "         1.6976607 ,  4.9371166 , -3.3217516 , -4.186129  , -2.942015  ],\n",
              "       [ 1.9706978 , -6.42301   ,  3.671509  , -1.6114285 , -5.5421867 ,\n",
              "        -3.4934916 , -4.164454  ,  3.0136137 ,  5.750012  ,  1.9196323 ,\n",
              "        -5.8481936 ,  1.0156199 , -0.9362391 , -0.55697083, -6.4590654 ,\n",
              "         2.5674524 ,  5.0141754 , -3.6144674 , -4.8704095 , -1.0617871 ]],\n",
              "      dtype=float32)>"
            ]
          },
          "metadata": {
            "tags": []
          },
          "execution_count": 30
        }
      ]
    },
    {
      "cell_type": "code",
      "metadata": {
        "id": "GrxTOsuY8ic7",
        "outputId": "70d9f467-e2c4-4500-bf52-218d3c3cc48e",
        "colab": {
          "base_uri": "https://localhost:8080/"
        }
      },
      "source": [
        ""
      ],
      "execution_count": 26,
      "outputs": [
        {
          "output_type": "execute_result",
          "data": {
            "text/plain": [
              "<tf.Tensor: shape=(2, 20), dtype=float32, numpy=\n",
              "array([[ 0.8666395 ,  0.35917717,  0.00579667,  0.681002  , -0.54226625,\n",
              "         0.22343189, -0.38796625,  0.62195706,  0.22117122, -0.48538068,\n",
              "        -1.2674141 ,  0.886369  , -0.32849073, -0.13924702, -0.53327686,\n",
              "         0.5739708 , -0.05905761,  0.13629246, -1.1718255 , -0.31494334],\n",
              "       [ 0.9602181 ,  0.62520486,  0.06261905,  0.37425604,  0.24782333,\n",
              "        -0.39351934, -0.7418429 ,  0.56599647, -0.26197797, -0.69016844,\n",
              "        -0.76565284,  0.71412426, -0.4537978 , -0.50701594, -0.8499377 ,\n",
              "         0.8917156 , -0.30278975,  0.2149126 , -1.1098894 , -0.46719775]],\n",
              "      dtype=float32)>"
            ]
          },
          "metadata": {
            "tags": []
          },
          "execution_count": 26
        }
      ]
    },
    {
      "cell_type": "markdown",
      "metadata": {
        "id": "Mc1dyC2BRCTw"
      },
      "source": [
        "# Building the model"
      ]
    },
    {
      "cell_type": "code",
      "metadata": {
        "id": "zBt528Hc8k2L",
        "outputId": "28f3efaf-d13c-4ab5-b73c-589a3ebe6a7a",
        "colab": {
          "base_uri": "https://localhost:8080/"
        }
      },
      "source": [
        "model = tf.keras.Sequential()\n",
        "model.add(hub_layer)\n",
        "model.add(tf.keras.layers.Dense(16, activation='relu'))\n",
        "model.add(tf.keras.layers.Dense(1))\n",
        "\n",
        "model.summary()"
      ],
      "execution_count": 33,
      "outputs": [
        {
          "output_type": "stream",
          "text": [
            "Model: \"sequential\"\n",
            "_________________________________________________________________\n",
            "Layer (type)                 Output Shape              Param #   \n",
            "=================================================================\n",
            "keras_layer_2 (KerasLayer)   (None, 20)                400020    \n",
            "_________________________________________________________________\n",
            "dense (Dense)                (None, 16)                336       \n",
            "_________________________________________________________________\n",
            "dense_1 (Dense)              (None, 1)                 17        \n",
            "=================================================================\n",
            "Total params: 400,373\n",
            "Trainable params: 400,373\n",
            "Non-trainable params: 0\n",
            "_________________________________________________________________\n"
          ],
          "name": "stdout"
        }
      ]
    },
    {
      "cell_type": "code",
      "metadata": {
        "id": "6_29q7stRHtv"
      },
      "source": [
        "model.compile(optimizer='adam',\n",
        "              loss=tf.losses.BinaryCrossentropy(from_logits=True),\n",
        "              metrics=[tf.metrics.BinaryAccuracy(threshold=0.0, name='accuracy')])"
      ],
      "execution_count": 34,
      "outputs": []
    },
    {
      "cell_type": "markdown",
      "metadata": {
        "id": "BQbxCK6tRqn_"
      },
      "source": [
        "# Building a validation set"
      ]
    },
    {
      "cell_type": "code",
      "metadata": {
        "id": "WRfyWFsiReAk"
      },
      "source": [
        "x_val = train_examples[:10000]\n",
        "partial_x_train = train_examples[10000:]\n",
        "\n",
        "y_val = train_labels[:10000]\n",
        "partial_y_train = train_labels[10000:]"
      ],
      "execution_count": 35,
      "outputs": []
    },
    {
      "cell_type": "markdown",
      "metadata": {
        "id": "hLl9GkAwR6Gp"
      },
      "source": [
        "# Model Training"
      ]
    },
    {
      "cell_type": "code",
      "metadata": {
        "id": "_ba5MtT0Rtyf",
        "outputId": "e363a61a-2964-422c-dc5f-bb41337e77e9",
        "colab": {
          "base_uri": "https://localhost:8080/"
        }
      },
      "source": [
        "history = model.fit(partial_x_train,\n",
        "                    partial_y_train,\n",
        "                    epochs=40,\n",
        "                    batch_size=512,\n",
        "                    validation_data=(x_val, y_val),\n",
        "                    verbose=2)"
      ],
      "execution_count": 37,
      "outputs": [
        {
          "output_type": "stream",
          "text": [
            "Epoch 1/40\n",
            "30/30 - 2s - loss: 1.0796 - accuracy: 0.4895 - val_loss: 0.7219 - val_accuracy: 0.4833\n",
            "Epoch 2/40\n",
            "30/30 - 2s - loss: 0.6833 - accuracy: 0.5694 - val_loss: 0.6586 - val_accuracy: 0.6141\n",
            "Epoch 3/40\n",
            "30/30 - 2s - loss: 0.6397 - accuracy: 0.6418 - val_loss: 0.6354 - val_accuracy: 0.6428\n",
            "Epoch 4/40\n",
            "30/30 - 2s - loss: 0.6159 - accuracy: 0.6675 - val_loss: 0.6169 - val_accuracy: 0.6639\n",
            "Epoch 5/40\n",
            "30/30 - 2s - loss: 0.5931 - accuracy: 0.6879 - val_loss: 0.5976 - val_accuracy: 0.6822\n",
            "Epoch 6/40\n",
            "30/30 - 2s - loss: 0.5685 - accuracy: 0.7067 - val_loss: 0.5749 - val_accuracy: 0.6997\n",
            "Epoch 7/40\n",
            "30/30 - 2s - loss: 0.5400 - accuracy: 0.7319 - val_loss: 0.5498 - val_accuracy: 0.7217\n",
            "Epoch 8/40\n",
            "30/30 - 2s - loss: 0.5083 - accuracy: 0.7569 - val_loss: 0.5218 - val_accuracy: 0.7433\n",
            "Epoch 9/40\n",
            "30/30 - 2s - loss: 0.4734 - accuracy: 0.7809 - val_loss: 0.4926 - val_accuracy: 0.7641\n",
            "Epoch 10/40\n",
            "30/30 - 2s - loss: 0.4380 - accuracy: 0.8065 - val_loss: 0.4645 - val_accuracy: 0.7820\n",
            "Epoch 11/40\n",
            "30/30 - 2s - loss: 0.4027 - accuracy: 0.8275 - val_loss: 0.4366 - val_accuracy: 0.8004\n",
            "Epoch 12/40\n",
            "30/30 - 2s - loss: 0.3701 - accuracy: 0.8455 - val_loss: 0.4113 - val_accuracy: 0.8162\n",
            "Epoch 13/40\n",
            "30/30 - 2s - loss: 0.3386 - accuracy: 0.8638 - val_loss: 0.3898 - val_accuracy: 0.8285\n",
            "Epoch 14/40\n",
            "30/30 - 2s - loss: 0.3116 - accuracy: 0.8767 - val_loss: 0.3715 - val_accuracy: 0.8397\n",
            "Epoch 15/40\n",
            "30/30 - 2s - loss: 0.2875 - accuracy: 0.8873 - val_loss: 0.3565 - val_accuracy: 0.8481\n",
            "Epoch 16/40\n",
            "30/30 - 2s - loss: 0.2649 - accuracy: 0.8990 - val_loss: 0.3443 - val_accuracy: 0.8534\n",
            "Epoch 17/40\n",
            "30/30 - 2s - loss: 0.2456 - accuracy: 0.9081 - val_loss: 0.3347 - val_accuracy: 0.8588\n",
            "Epoch 18/40\n",
            "30/30 - 2s - loss: 0.2282 - accuracy: 0.9166 - val_loss: 0.3270 - val_accuracy: 0.8624\n",
            "Epoch 19/40\n",
            "30/30 - 2s - loss: 0.2125 - accuracy: 0.9241 - val_loss: 0.3219 - val_accuracy: 0.8643\n",
            "Epoch 20/40\n",
            "30/30 - 2s - loss: 0.1985 - accuracy: 0.9317 - val_loss: 0.3171 - val_accuracy: 0.8667\n",
            "Epoch 21/40\n",
            "30/30 - 2s - loss: 0.1855 - accuracy: 0.9367 - val_loss: 0.3131 - val_accuracy: 0.8693\n",
            "Epoch 22/40\n",
            "30/30 - 2s - loss: 0.1735 - accuracy: 0.9430 - val_loss: 0.3115 - val_accuracy: 0.8706\n",
            "Epoch 23/40\n",
            "30/30 - 2s - loss: 0.1633 - accuracy: 0.9461 - val_loss: 0.3104 - val_accuracy: 0.8720\n",
            "Epoch 24/40\n",
            "30/30 - 2s - loss: 0.1535 - accuracy: 0.9506 - val_loss: 0.3111 - val_accuracy: 0.8727\n",
            "Epoch 25/40\n",
            "30/30 - 2s - loss: 0.1433 - accuracy: 0.9551 - val_loss: 0.3095 - val_accuracy: 0.8723\n",
            "Epoch 26/40\n",
            "30/30 - 2s - loss: 0.1344 - accuracy: 0.9585 - val_loss: 0.3106 - val_accuracy: 0.8732\n",
            "Epoch 27/40\n",
            "30/30 - 2s - loss: 0.1262 - accuracy: 0.9618 - val_loss: 0.3129 - val_accuracy: 0.8720\n",
            "Epoch 28/40\n",
            "30/30 - 2s - loss: 0.1183 - accuracy: 0.9643 - val_loss: 0.3152 - val_accuracy: 0.8742\n",
            "Epoch 29/40\n",
            "30/30 - 2s - loss: 0.1118 - accuracy: 0.9674 - val_loss: 0.3169 - val_accuracy: 0.8724\n",
            "Epoch 30/40\n",
            "30/30 - 2s - loss: 0.1046 - accuracy: 0.9700 - val_loss: 0.3200 - val_accuracy: 0.8733\n",
            "Epoch 31/40\n",
            "30/30 - 2s - loss: 0.0985 - accuracy: 0.9722 - val_loss: 0.3231 - val_accuracy: 0.8737\n",
            "Epoch 32/40\n",
            "30/30 - 2s - loss: 0.0930 - accuracy: 0.9742 - val_loss: 0.3269 - val_accuracy: 0.8730\n",
            "Epoch 33/40\n",
            "30/30 - 2s - loss: 0.0869 - accuracy: 0.9767 - val_loss: 0.3336 - val_accuracy: 0.8708\n",
            "Epoch 34/40\n",
            "30/30 - 2s - loss: 0.0810 - accuracy: 0.9801 - val_loss: 0.3360 - val_accuracy: 0.8717\n",
            "Epoch 35/40\n",
            "30/30 - 2s - loss: 0.0761 - accuracy: 0.9817 - val_loss: 0.3405 - val_accuracy: 0.8708\n",
            "Epoch 36/40\n",
            "30/30 - 2s - loss: 0.0715 - accuracy: 0.9833 - val_loss: 0.3453 - val_accuracy: 0.8709\n",
            "Epoch 37/40\n",
            "30/30 - 2s - loss: 0.0669 - accuracy: 0.9851 - val_loss: 0.3502 - val_accuracy: 0.8699\n",
            "Epoch 38/40\n",
            "30/30 - 2s - loss: 0.0625 - accuracy: 0.9871 - val_loss: 0.3567 - val_accuracy: 0.8690\n",
            "Epoch 39/40\n",
            "30/30 - 2s - loss: 0.0593 - accuracy: 0.9879 - val_loss: 0.3649 - val_accuracy: 0.8685\n",
            "Epoch 40/40\n",
            "30/30 - 2s - loss: 0.0555 - accuracy: 0.9888 - val_loss: 0.3683 - val_accuracy: 0.8674\n"
          ],
          "name": "stdout"
        }
      ]
    },
    {
      "cell_type": "markdown",
      "metadata": {
        "id": "1w9iiQLHSadF"
      },
      "source": [
        "# Model Evaluation on Test Set"
      ]
    },
    {
      "cell_type": "code",
      "metadata": {
        "id": "RCIAFbLmR4JX",
        "outputId": "2ba1aa93-d70f-4f04-d473-8113af77ef32",
        "colab": {
          "base_uri": "https://localhost:8080/"
        }
      },
      "source": [
        "results = model.evaluate(test_data, test_labels)\n",
        "\n",
        "print(results)"
      ],
      "execution_count": 38,
      "outputs": [
        {
          "output_type": "stream",
          "text": [
            "782/782 [==============================] - 5s 7ms/step - loss: 0.3975 - accuracy: 0.8560\n",
            "[0.3975006639957428, 0.8560400009155273]\n"
          ],
          "name": "stdout"
        }
      ]
    },
    {
      "cell_type": "markdown",
      "metadata": {
        "id": "Z8MTI5HPSs3f"
      },
      "source": [
        "# Visualizing the performance"
      ]
    },
    {
      "cell_type": "code",
      "metadata": {
        "id": "rQ0vCCD3SeTb",
        "outputId": "df52185f-1587-4cf8-bb89-be620d4b205c",
        "colab": {
          "base_uri": "https://localhost:8080/"
        }
      },
      "source": [
        "history_dict = history.history\n",
        "history_dict.keys()"
      ],
      "execution_count": 39,
      "outputs": [
        {
          "output_type": "execute_result",
          "data": {
            "text/plain": [
              "dict_keys(['loss', 'accuracy', 'val_loss', 'val_accuracy'])"
            ]
          },
          "metadata": {
            "tags": []
          },
          "execution_count": 39
        }
      ]
    },
    {
      "cell_type": "code",
      "metadata": {
        "id": "i-kmBiZESx1I",
        "outputId": "1f10c74d-cfdd-4978-bb10-99a6d7691539",
        "colab": {
          "base_uri": "https://localhost:8080/",
          "height": 312
        }
      },
      "source": [
        "acc = history_dict['accuracy']\n",
        "val_acc = history_dict['val_accuracy']\n",
        "loss = history_dict['loss']\n",
        "val_loss = history_dict['val_loss']\n",
        "\n",
        "epochs = range(1, len(acc) + 1)\n",
        "\n",
        "# \"bo\" is for \"blue dot\"\n",
        "plt.plot(epochs, loss, 'bo', label='Training loss')\n",
        "# b is for \"solid blue line\"\n",
        "plt.plot(epochs, val_loss, 'b', label='Validation loss')\n",
        "plt.title('Training and validation loss')\n",
        "plt.xlabel('Epochs')\n",
        "plt.ylabel('Loss')\n",
        "plt.legend()"
      ],
      "execution_count": 40,
      "outputs": [
        {
          "output_type": "execute_result",
          "data": {
            "text/plain": [
              "<matplotlib.legend.Legend at 0x7f385c9669e8>"
            ]
          },
          "metadata": {
            "tags": []
          },
          "execution_count": 40
        },
        {
          "output_type": "display_data",
          "data": {
            "image/png": "[encoded data removed]",
            "text/plain": [
              "<Figure size 432x288 with 1 Axes>"
            ]
          },
          "metadata": {
            "tags": [],
            "needs_background": "light"
          }
        }
      ]
    },
    {
      "cell_type": "code",
      "metadata": {
        "id": "03sE0oJoS1_A"
      },
      "source": [
        ""
      ],
      "execution_count": null,
      "outputs": []
    }
  ]
}